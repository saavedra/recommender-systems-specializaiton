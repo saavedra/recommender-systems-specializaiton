{
 "cells": [
  {
   "cell_type": "code",
   "execution_count": 1,
   "metadata": {},
   "outputs": [],
   "source": [
    "import pandas as pd"
   ]
  },
  {
   "cell_type": "code",
   "execution_count": 2,
   "metadata": {},
   "outputs": [],
   "source": [
    "df = pd.read_excel('Assignment 2.xls', index_col=0)"
   ]
  },
  {
   "cell_type": "code",
   "execution_count": 3,
   "metadata": {},
   "outputs": [
    {
     "data": {
      "text/html": [
       "<div>\n",
       "<style scoped>\n",
       "    .dataframe tbody tr th:only-of-type {\n",
       "        vertical-align: middle;\n",
       "    }\n",
       "\n",
       "    .dataframe tbody tr th {\n",
       "        vertical-align: top;\n",
       "    }\n",
       "\n",
       "    .dataframe thead th {\n",
       "        text-align: right;\n",
       "    }\n",
       "</style>\n",
       "<table border=\"1\" class=\"dataframe\">\n",
       "  <thead>\n",
       "    <tr style=\"text-align: right;\">\n",
       "      <th></th>\n",
       "      <th>baseball</th>\n",
       "      <th>economics</th>\n",
       "      <th>politics</th>\n",
       "      <th>Europe</th>\n",
       "      <th>Asia</th>\n",
       "      <th>soccer</th>\n",
       "      <th>war</th>\n",
       "      <th>security</th>\n",
       "      <th>shopping</th>\n",
       "      <th>family</th>\n",
       "      <th>User 1</th>\n",
       "      <th>User 2</th>\n",
       "    </tr>\n",
       "  </thead>\n",
       "  <tbody>\n",
       "    <tr>\n",
       "      <th>doc1</th>\n",
       "      <td>1.0</td>\n",
       "      <td>0.0</td>\n",
       "      <td>1.0</td>\n",
       "      <td>0.0</td>\n",
       "      <td>1.0</td>\n",
       "      <td>1.0</td>\n",
       "      <td>0.0</td>\n",
       "      <td>0.0</td>\n",
       "      <td>0.0</td>\n",
       "      <td>1.0</td>\n",
       "      <td>1.0</td>\n",
       "      <td>-1.0</td>\n",
       "    </tr>\n",
       "    <tr>\n",
       "      <th>doc2</th>\n",
       "      <td>0.0</td>\n",
       "      <td>1.0</td>\n",
       "      <td>1.0</td>\n",
       "      <td>1.0</td>\n",
       "      <td>0.0</td>\n",
       "      <td>0.0</td>\n",
       "      <td>0.0</td>\n",
       "      <td>1.0</td>\n",
       "      <td>0.0</td>\n",
       "      <td>0.0</td>\n",
       "      <td>-1.0</td>\n",
       "      <td>1.0</td>\n",
       "    </tr>\n",
       "    <tr>\n",
       "      <th>doc3</th>\n",
       "      <td>0.0</td>\n",
       "      <td>0.0</td>\n",
       "      <td>0.0</td>\n",
       "      <td>1.0</td>\n",
       "      <td>1.0</td>\n",
       "      <td>1.0</td>\n",
       "      <td>0.0</td>\n",
       "      <td>0.0</td>\n",
       "      <td>0.0</td>\n",
       "      <td>0.0</td>\n",
       "      <td>NaN</td>\n",
       "      <td>NaN</td>\n",
       "    </tr>\n",
       "    <tr>\n",
       "      <th>doc4</th>\n",
       "      <td>0.0</td>\n",
       "      <td>0.0</td>\n",
       "      <td>1.0</td>\n",
       "      <td>1.0</td>\n",
       "      <td>0.0</td>\n",
       "      <td>0.0</td>\n",
       "      <td>1.0</td>\n",
       "      <td>1.0</td>\n",
       "      <td>0.0</td>\n",
       "      <td>0.0</td>\n",
       "      <td>NaN</td>\n",
       "      <td>1.0</td>\n",
       "    </tr>\n",
       "    <tr>\n",
       "      <th>doc5</th>\n",
       "      <td>0.0</td>\n",
       "      <td>1.0</td>\n",
       "      <td>0.0</td>\n",
       "      <td>0.0</td>\n",
       "      <td>0.0</td>\n",
       "      <td>0.0</td>\n",
       "      <td>0.0</td>\n",
       "      <td>0.0</td>\n",
       "      <td>1.0</td>\n",
       "      <td>1.0</td>\n",
       "      <td>NaN</td>\n",
       "      <td>NaN</td>\n",
       "    </tr>\n",
       "    <tr>\n",
       "      <th>doc6</th>\n",
       "      <td>1.0</td>\n",
       "      <td>0.0</td>\n",
       "      <td>0.0</td>\n",
       "      <td>1.0</td>\n",
       "      <td>0.0</td>\n",
       "      <td>0.0</td>\n",
       "      <td>0.0</td>\n",
       "      <td>0.0</td>\n",
       "      <td>0.0</td>\n",
       "      <td>0.0</td>\n",
       "      <td>1.0</td>\n",
       "      <td>NaN</td>\n",
       "    </tr>\n",
       "    <tr>\n",
       "      <th>doc7</th>\n",
       "      <td>0.0</td>\n",
       "      <td>0.0</td>\n",
       "      <td>0.0</td>\n",
       "      <td>0.0</td>\n",
       "      <td>0.0</td>\n",
       "      <td>0.0</td>\n",
       "      <td>0.0</td>\n",
       "      <td>1.0</td>\n",
       "      <td>0.0</td>\n",
       "      <td>1.0</td>\n",
       "      <td>NaN</td>\n",
       "      <td>NaN</td>\n",
       "    </tr>\n",
       "    <tr>\n",
       "      <th>doc8</th>\n",
       "      <td>0.0</td>\n",
       "      <td>0.0</td>\n",
       "      <td>1.0</td>\n",
       "      <td>1.0</td>\n",
       "      <td>0.0</td>\n",
       "      <td>0.0</td>\n",
       "      <td>1.0</td>\n",
       "      <td>0.0</td>\n",
       "      <td>0.0</td>\n",
       "      <td>1.0</td>\n",
       "      <td>NaN</td>\n",
       "      <td>NaN</td>\n",
       "    </tr>\n",
       "    <tr>\n",
       "      <th>doc9</th>\n",
       "      <td>0.0</td>\n",
       "      <td>0.0</td>\n",
       "      <td>0.0</td>\n",
       "      <td>0.0</td>\n",
       "      <td>0.0</td>\n",
       "      <td>1.0</td>\n",
       "      <td>0.0</td>\n",
       "      <td>0.0</td>\n",
       "      <td>1.0</td>\n",
       "      <td>0.0</td>\n",
       "      <td>NaN</td>\n",
       "      <td>NaN</td>\n",
       "    </tr>\n",
       "    <tr>\n",
       "      <th>doc10</th>\n",
       "      <td>0.0</td>\n",
       "      <td>1.0</td>\n",
       "      <td>0.0</td>\n",
       "      <td>0.0</td>\n",
       "      <td>1.0</td>\n",
       "      <td>0.0</td>\n",
       "      <td>1.0</td>\n",
       "      <td>0.0</td>\n",
       "      <td>0.0</td>\n",
       "      <td>0.0</td>\n",
       "      <td>NaN</td>\n",
       "      <td>NaN</td>\n",
       "    </tr>\n",
       "    <tr>\n",
       "      <th>doc11</th>\n",
       "      <td>0.0</td>\n",
       "      <td>0.0</td>\n",
       "      <td>1.0</td>\n",
       "      <td>0.0</td>\n",
       "      <td>1.0</td>\n",
       "      <td>0.0</td>\n",
       "      <td>0.0</td>\n",
       "      <td>0.0</td>\n",
       "      <td>1.0</td>\n",
       "      <td>0.0</td>\n",
       "      <td>NaN</td>\n",
       "      <td>NaN</td>\n",
       "    </tr>\n",
       "    <tr>\n",
       "      <th>doc12</th>\n",
       "      <td>1.0</td>\n",
       "      <td>0.0</td>\n",
       "      <td>0.0</td>\n",
       "      <td>0.0</td>\n",
       "      <td>0.0</td>\n",
       "      <td>1.0</td>\n",
       "      <td>1.0</td>\n",
       "      <td>0.0</td>\n",
       "      <td>0.0</td>\n",
       "      <td>0.0</td>\n",
       "      <td>NaN</td>\n",
       "      <td>-1.0</td>\n",
       "    </tr>\n",
       "    <tr>\n",
       "      <th>doc13</th>\n",
       "      <td>0.0</td>\n",
       "      <td>0.0</td>\n",
       "      <td>1.0</td>\n",
       "      <td>1.0</td>\n",
       "      <td>1.0</td>\n",
       "      <td>0.0</td>\n",
       "      <td>0.0</td>\n",
       "      <td>1.0</td>\n",
       "      <td>0.0</td>\n",
       "      <td>0.0</td>\n",
       "      <td>NaN</td>\n",
       "      <td>NaN</td>\n",
       "    </tr>\n",
       "    <tr>\n",
       "      <th>doc14</th>\n",
       "      <td>0.0</td>\n",
       "      <td>1.0</td>\n",
       "      <td>1.0</td>\n",
       "      <td>1.0</td>\n",
       "      <td>0.0</td>\n",
       "      <td>0.0</td>\n",
       "      <td>0.0</td>\n",
       "      <td>0.0</td>\n",
       "      <td>1.0</td>\n",
       "      <td>0.0</td>\n",
       "      <td>NaN</td>\n",
       "      <td>NaN</td>\n",
       "    </tr>\n",
       "    <tr>\n",
       "      <th>doc15</th>\n",
       "      <td>0.0</td>\n",
       "      <td>0.0</td>\n",
       "      <td>0.0</td>\n",
       "      <td>1.0</td>\n",
       "      <td>0.0</td>\n",
       "      <td>1.0</td>\n",
       "      <td>1.0</td>\n",
       "      <td>1.0</td>\n",
       "      <td>0.0</td>\n",
       "      <td>0.0</td>\n",
       "      <td>NaN</td>\n",
       "      <td>NaN</td>\n",
       "    </tr>\n",
       "    <tr>\n",
       "      <th>doc16</th>\n",
       "      <td>1.0</td>\n",
       "      <td>0.0</td>\n",
       "      <td>0.0</td>\n",
       "      <td>0.0</td>\n",
       "      <td>0.0</td>\n",
       "      <td>1.0</td>\n",
       "      <td>0.0</td>\n",
       "      <td>0.0</td>\n",
       "      <td>1.0</td>\n",
       "      <td>0.0</td>\n",
       "      <td>1.0</td>\n",
       "      <td>NaN</td>\n",
       "    </tr>\n",
       "    <tr>\n",
       "      <th>doc17</th>\n",
       "      <td>0.0</td>\n",
       "      <td>1.0</td>\n",
       "      <td>1.0</td>\n",
       "      <td>1.0</td>\n",
       "      <td>0.0</td>\n",
       "      <td>0.0</td>\n",
       "      <td>0.0</td>\n",
       "      <td>1.0</td>\n",
       "      <td>0.0</td>\n",
       "      <td>0.0</td>\n",
       "      <td>NaN</td>\n",
       "      <td>1.0</td>\n",
       "    </tr>\n",
       "    <tr>\n",
       "      <th>doc18</th>\n",
       "      <td>0.0</td>\n",
       "      <td>0.0</td>\n",
       "      <td>0.0</td>\n",
       "      <td>1.0</td>\n",
       "      <td>0.0</td>\n",
       "      <td>0.0</td>\n",
       "      <td>0.0</td>\n",
       "      <td>0.0</td>\n",
       "      <td>1.0</td>\n",
       "      <td>0.0</td>\n",
       "      <td>NaN</td>\n",
       "      <td>NaN</td>\n",
       "    </tr>\n",
       "    <tr>\n",
       "      <th>doc19</th>\n",
       "      <td>0.0</td>\n",
       "      <td>1.0</td>\n",
       "      <td>1.0</td>\n",
       "      <td>0.0</td>\n",
       "      <td>1.0</td>\n",
       "      <td>0.0</td>\n",
       "      <td>1.0</td>\n",
       "      <td>0.0</td>\n",
       "      <td>0.0</td>\n",
       "      <td>1.0</td>\n",
       "      <td>-1.0</td>\n",
       "      <td>NaN</td>\n",
       "    </tr>\n",
       "    <tr>\n",
       "      <th>doc20</th>\n",
       "      <td>0.0</td>\n",
       "      <td>0.0</td>\n",
       "      <td>1.0</td>\n",
       "      <td>1.0</td>\n",
       "      <td>0.0</td>\n",
       "      <td>0.0</td>\n",
       "      <td>1.0</td>\n",
       "      <td>0.0</td>\n",
       "      <td>1.0</td>\n",
       "      <td>0.0</td>\n",
       "      <td>NaN</td>\n",
       "      <td>NaN</td>\n",
       "    </tr>\n",
       "  </tbody>\n",
       "</table>\n",
       "</div>"
      ],
      "text/plain": [
       "       baseball  economics  politics  Europe  Asia  soccer  war  security  \\\n",
       "doc1        1.0        0.0       1.0     0.0   1.0     1.0  0.0       0.0   \n",
       "doc2        0.0        1.0       1.0     1.0   0.0     0.0  0.0       1.0   \n",
       "doc3        0.0        0.0       0.0     1.0   1.0     1.0  0.0       0.0   \n",
       "doc4        0.0        0.0       1.0     1.0   0.0     0.0  1.0       1.0   \n",
       "doc5        0.0        1.0       0.0     0.0   0.0     0.0  0.0       0.0   \n",
       "doc6        1.0        0.0       0.0     1.0   0.0     0.0  0.0       0.0   \n",
       "doc7        0.0        0.0       0.0     0.0   0.0     0.0  0.0       1.0   \n",
       "doc8        0.0        0.0       1.0     1.0   0.0     0.0  1.0       0.0   \n",
       "doc9        0.0        0.0       0.0     0.0   0.0     1.0  0.0       0.0   \n",
       "doc10       0.0        1.0       0.0     0.0   1.0     0.0  1.0       0.0   \n",
       "doc11       0.0        0.0       1.0     0.0   1.0     0.0  0.0       0.0   \n",
       "doc12       1.0        0.0       0.0     0.0   0.0     1.0  1.0       0.0   \n",
       "doc13       0.0        0.0       1.0     1.0   1.0     0.0  0.0       1.0   \n",
       "doc14       0.0        1.0       1.0     1.0   0.0     0.0  0.0       0.0   \n",
       "doc15       0.0        0.0       0.0     1.0   0.0     1.0  1.0       1.0   \n",
       "doc16       1.0        0.0       0.0     0.0   0.0     1.0  0.0       0.0   \n",
       "doc17       0.0        1.0       1.0     1.0   0.0     0.0  0.0       1.0   \n",
       "doc18       0.0        0.0       0.0     1.0   0.0     0.0  0.0       0.0   \n",
       "doc19       0.0        1.0       1.0     0.0   1.0     0.0  1.0       0.0   \n",
       "doc20       0.0        0.0       1.0     1.0   0.0     0.0  1.0       0.0   \n",
       "\n",
       "       shopping  family  User 1  User 2  \n",
       "doc1        0.0     1.0     1.0    -1.0  \n",
       "doc2        0.0     0.0    -1.0     1.0  \n",
       "doc3        0.0     0.0     NaN     NaN  \n",
       "doc4        0.0     0.0     NaN     1.0  \n",
       "doc5        1.0     1.0     NaN     NaN  \n",
       "doc6        0.0     0.0     1.0     NaN  \n",
       "doc7        0.0     1.0     NaN     NaN  \n",
       "doc8        0.0     1.0     NaN     NaN  \n",
       "doc9        1.0     0.0     NaN     NaN  \n",
       "doc10       0.0     0.0     NaN     NaN  \n",
       "doc11       1.0     0.0     NaN     NaN  \n",
       "doc12       0.0     0.0     NaN    -1.0  \n",
       "doc13       0.0     0.0     NaN     NaN  \n",
       "doc14       1.0     0.0     NaN     NaN  \n",
       "doc15       0.0     0.0     NaN     NaN  \n",
       "doc16       1.0     0.0     1.0     NaN  \n",
       "doc17       0.0     0.0     NaN     1.0  \n",
       "doc18       1.0     0.0     NaN     NaN  \n",
       "doc19       0.0     1.0    -1.0     NaN  \n",
       "doc20       1.0     0.0     NaN     NaN  "
      ]
     },
     "execution_count": 3,
     "metadata": {},
     "output_type": "execute_result"
    }
   ],
   "source": [
    "# cleaning \n",
    "non_null_cols = (df.isnull().sum() < len(df)) == True\n",
    "non_null_rows = (df.isnull().sum(axis=1) < df.shape[1]) == True\n",
    "\n",
    "df = df.loc[non_null_rows, non_null_cols]\n",
    "\n",
    "df = df.drop('DF').drop('num-attr', axis=1)\n",
    "df"
   ]
  },
  {
   "cell_type": "code",
   "execution_count": 4,
   "metadata": {},
   "outputs": [],
   "source": [
    "interests = ['baseball', 'economics', 'politics', 'Europe', 'Asia', 'soccer', 'war', 'security', 'shopping', 'family']"
   ]
  },
  {
   "cell_type": "markdown",
   "metadata": {},
   "source": [
    "User profiles"
   ]
  },
  {
   "cell_type": "code",
   "execution_count": 5,
   "metadata": {},
   "outputs": [],
   "source": [
    "# profile user 1 \n",
    "ratings_user_1 = df[df['User 1'].notnull()]['User 1']\n",
    "categories_user_1 = df.loc[df['User 1'].notnull(), interests]\n",
    "\n",
    "for c in categories_user_1.columns: \n",
    "    categories_user_1[c] *= ratings_user_1\n",
    "\n",
    "profile_user_1 = categories_user_1.sum()"
   ]
  },
  {
   "cell_type": "markdown",
   "metadata": {},
   "source": [
    "Now compute the predicted score for each user for each document (a simple dot-product). Type in the answers to the following questions (answers may include already-rated articles) as part of the Quiz:\n",
    "\n",
    "* Which document does the simple profile predict user 1 will like best?\n",
    "* What score does that prediction get?\n",
    "* How many documents does the model predict user 2 will dislike (prediction score that is negative)?"
   ]
  },
  {
   "cell_type": "code",
   "execution_count": 6,
   "metadata": {},
   "outputs": [
    {
     "data": {
      "text/plain": [
       "doc16    6.0\n",
       "dtype: float64"
      ]
     },
     "execution_count": 6,
     "metadata": {},
     "output_type": "execute_result"
    }
   ],
   "source": [
    "df[interests].dot(profile_user_1).sort_values().tail(1)"
   ]
  },
  {
   "cell_type": "code",
   "execution_count": 7,
   "metadata": {},
   "outputs": [],
   "source": [
    "# profile user 2\n",
    "ratings_user_2 = df[df['User 2'].notnull()]['User 2']\n",
    "categories_user_2 = df.loc[df['User 2'].notnull(), interests]\n",
    "\n",
    "for c in categories_user_2.columns: \n",
    "    categories_user_2[c] *= ratings_user_2\n",
    "\n",
    "profile_user_2 = categories_user_2.sum()"
   ]
  },
  {
   "cell_type": "code",
   "execution_count": 8,
   "metadata": {},
   "outputs": [
    {
     "data": {
      "text/plain": [
       "np.int64(4)"
      ]
     },
     "execution_count": 8,
     "metadata": {},
     "output_type": "execute_result"
    }
   ],
   "source": [
    "# How many documents does the model predict user 2 will dislike (prediction score that is negative)?\n",
    "(df[interests].dot(profile_user_2) < 0).sum()"
   ]
  },
  {
   "cell_type": "markdown",
   "metadata": {},
   "source": [
    "### Part 2. Next, let’s treat all articles as having unit weight ..."
   ]
  },
  {
   "cell_type": "code",
   "execution_count": 9,
   "metadata": {},
   "outputs": [],
   "source": [
    "df_unit = df.copy()\n",
    "\n",
    "for c in df_unit[interests].columns: \n",
    "    df_unit[c] /= df[interests].sum(axis=1).abs().pow(.5)"
   ]
  },
  {
   "cell_type": "code",
   "execution_count": 14,
   "metadata": {},
   "outputs": [],
   "source": [
    "# profile user 1 \n",
    "categories_user_1_unit = df_unit.loc[df['User 1'].notnull(), interests]\n",
    "\n",
    "for c in categories_user_1_unit.columns: \n",
    "    categories_user_1_unit[c] *= ratings_user_1\n",
    "\n",
    "profile_user_1 = categories_user_1_unit.sum()"
   ]
  },
  {
   "cell_type": "code",
   "execution_count": 17,
   "metadata": {},
   "outputs": [
    {
     "data": {
      "text/plain": [
       "doc2    -0.870053\n",
       "doc17   -0.870053\n",
       "doc19   -0.847214\n",
       "doc10   -0.805073\n",
       "doc4    -0.620053\n",
       "doc13   -0.396447\n",
       "doc8    -0.370053\n",
       "doc7    -0.353553\n",
       "doc14   -0.331378\n",
       "doc5    -0.213541\n",
       "doc20   -0.081378\n",
       "doc11    0.044658\n",
       "doc15    0.142229\n",
       "doc18    0.554695\n",
       "doc3     0.711105\n",
       "doc1     1.009019\n",
       "doc9     1.132724\n",
       "doc12    1.333114\n",
       "doc6     1.370923\n",
       "doc16    1.924646\n",
       "dtype: float64"
      ]
     },
     "execution_count": 17,
     "metadata": {},
     "output_type": "execute_result"
    }
   ],
   "source": [
    "df_unit[interests].dot(profile_user_1).sort_values()"
   ]
  },
  {
   "cell_type": "code",
   "execution_count": 18,
   "metadata": {},
   "outputs": [],
   "source": [
    "# profile user 2 \n",
    "categories_user_2_unit = df_unit.loc[df['User 2'].notnull(), interests]\n",
    "\n",
    "for c in categories_user_2_unit.columns: \n",
    "    categories_user_2_unit[c] *= ratings_user_2\n",
    "\n",
    "profile_user_2 = categories_user_2_unit.sum()"
   ]
  },
  {
   "cell_type": "code",
   "execution_count": 19,
   "metadata": {},
   "outputs": [
    {
     "data": {
      "text/plain": [
       "doc12   -1.227723\n",
       "doc16   -1.183064\n",
       "doc1    -0.845577\n",
       "doc9    -0.724476\n",
       "doc3     0.016294\n",
       "doc10    0.274493\n",
       "doc5     0.319151\n",
       "doc6     0.336184\n",
       "doc11    0.349628\n",
       "doc19    0.483442\n",
       "doc7     0.744432\n",
       "doc15    0.949043\n",
       "doc8     1.014111\n",
       "doc18    1.060660\n",
       "doc20    1.237718\n",
       "doc14    1.776393\n",
       "doc13    1.802786\n",
       "doc4     1.987718\n",
       "doc2     2.526393\n",
       "doc17    2.526393\n",
       "dtype: float64"
      ]
     },
     "execution_count": 19,
     "metadata": {},
     "output_type": "execute_result"
    }
   ],
   "source": [
    "df_unit[interests].dot(profile_user_2).sort_values()"
   ]
  },
  {
   "cell_type": "markdown",
   "metadata": {},
   "source": [
    "### Part 3. Finally, let’s consider how common different terms are among our documents …\n",
    "\n",
    "We’re going to do one more model -- one that accounts for the fact the the content attributes have vastly different frequencies.\n",
    "\n",
    "We’re going to include an IDF (inverse document frequency) term into our equation. Start with your spreadsheet from part 2. Add a row that shows 1/DF where DF is the number of documents in which each content attribute occurs. For example, baseball occurs in 4 documents, so baseball’s entry will be 0.25. Politics occurs in 10 documents, so it will get an IDF score of 0.1 (1 / 10)."
   ]
  },
  {
   "cell_type": "code",
   "execution_count": 26,
   "metadata": {},
   "outputs": [
    {
     "data": {
      "text/plain": [
       "baseball     0.250000\n",
       "economics    0.166667\n",
       "politics     0.100000\n",
       "Europe       0.090909\n",
       "Asia         0.166667\n",
       "soccer       0.166667\n",
       "war          0.142857\n",
       "security     0.166667\n",
       "shopping     0.142857\n",
       "family       0.200000\n",
       "dtype: float64"
      ]
     },
     "execution_count": 26,
     "metadata": {},
     "output_type": "execute_result"
    }
   ],
   "source": [
    "idf = 1 / (df_unit[interests] != 0).sum() \n",
    "idf"
   ]
  },
  {
   "cell_type": "code",
   "execution_count": 30,
   "metadata": {},
   "outputs": [
    {
     "data": {
      "text/plain": [
       "np.float64(0.3498948822503191)"
      ]
     },
     "execution_count": 30,
     "metadata": {},
     "output_type": "execute_result"
    }
   ],
   "source": [
    "profile_user_1.dot(idf)"
   ]
  },
  {
   "cell_type": "code",
   "execution_count": 31,
   "metadata": {},
   "outputs": [
    {
     "data": {
      "text/plain": [
       "doc1     0.247612\n",
       "doc2    -0.136187\n",
       "doc3     0.109459\n",
       "doc4    -0.089197\n",
       "doc5    -0.043527\n",
       "doc6     0.319432\n",
       "doc7    -0.058926\n",
       "doc8    -0.047530\n",
       "doc9     0.179067\n",
       "doc10   -0.128031\n",
       "doc11    0.018752\n",
       "doc12    0.311648\n",
       "doc13   -0.057253\n",
       "doc14   -0.053281\n",
       "doc15    0.021184\n",
       "doc16    0.396153\n",
       "doc17   -0.136187\n",
       "doc18    0.071635\n",
       "doc19   -0.121533\n",
       "doc20   -0.006291\n",
       "dtype: float64"
      ]
     },
     "execution_count": 31,
     "metadata": {},
     "output_type": "execute_result"
    }
   ],
   "source": [
    "df_unit[interests].dot(profile_user_1.mul(idf))"
   ]
  },
  {
   "cell_type": "code",
   "execution_count": null,
   "metadata": {},
   "outputs": [],
   "source": []
  },
  {
   "cell_type": "code",
   "execution_count": null,
   "metadata": {},
   "outputs": [],
   "source": []
  },
  {
   "cell_type": "code",
   "execution_count": null,
   "metadata": {},
   "outputs": [],
   "source": []
  }
 ],
 "metadata": {
  "kernelspec": {
   "display_name": ".env",
   "language": "python",
   "name": "python3"
  },
  "language_info": {
   "codemirror_mode": {
    "name": "ipython",
    "version": 3
   },
   "file_extension": ".py",
   "mimetype": "text/x-python",
   "name": "python",
   "nbconvert_exporter": "python",
   "pygments_lexer": "ipython3",
   "version": "3.10.15"
  }
 },
 "nbformat": 4,
 "nbformat_minor": 2
}
